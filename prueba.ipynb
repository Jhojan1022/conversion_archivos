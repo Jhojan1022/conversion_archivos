{
 "cells": [
  {
   "cell_type": "code",
   "execution_count": 16,
   "metadata": {},
   "outputs": [],
   "source": [
    "import tkinter as tk\n",
    "\n",
    "def prueba():\n",
    "    print(\"Hola\" + entrada.get())\n",
    "\n",
    "app = tk.Tk()\n",
    "\n",
    "palabra = tk.StringVar(app)\n",
    "entrada = tk.StringVar(app)\n",
    "\n",
    "## dimensiones an*al\n",
    "app.geometry(\"600x600\")\n",
    "app.configure(background='black')\n",
    "app.title('Conversión de archivos')\n",
    "\n",
    "tk.Label(\n",
    "    app,\n",
    "    text='Hola 2',\n",
    "    justify='center'\n",
    ").pack(\n",
    "    fill=tk.BOTH,\n",
    "    expand=True\n",
    ")\n",
    "\n",
    "tk.Entry(\n",
    "    app,\n",
    "    text='Ingresa la ruta del archivo',\n",
    "    justify='center',\n",
    "    textvariable=entrada\n",
    ").pack(\n",
    "    fill=tk.BOTH,\n",
    "    expand=True\n",
    ")\n",
    "\n",
    "tk.Button(\n",
    "    app,\n",
    "    text='Click',\n",
    "    font=('calibri', 14),\n",
    "    bg='gray',\n",
    "    fg='black',\n",
    "    command=prueba\n",
    ").pack(\n",
    "    fill=tk.BOTH,\n",
    "    expand=True\n",
    ")\n",
    "\n",
    "app.mainloop()"
   ]
  }
 ],
 "metadata": {
  "kernelspec": {
   "display_name": "Python 3",
   "language": "python",
   "name": "python3"
  },
  "language_info": {
   "codemirror_mode": {
    "name": "ipython",
    "version": 3
   },
   "file_extension": ".py",
   "mimetype": "text/x-python",
   "name": "python",
   "nbconvert_exporter": "python",
   "pygments_lexer": "ipython3",
   "version": "3.12.4"
  }
 },
 "nbformat": 4,
 "nbformat_minor": 2
}
